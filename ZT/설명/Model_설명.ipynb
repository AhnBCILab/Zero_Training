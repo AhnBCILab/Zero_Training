{
 "cells": [
  {
   "cell_type": "markdown",
   "metadata": {},
   "source": [
    "# Loading Data"
   ]
  },
  {
   "cell_type": "markdown",
   "metadata": {},
   "source": [
    "이전에 .npz파일로 저장한 데이터를 불러오겠습니다."
   ]
  },
  {
   "cell_type": "code",
   "execution_count": 1,
   "metadata": {},
   "outputs": [
    {
     "name": "stdout",
     "output_type": "stream",
     "text": [
      "['target_data', 'non_target_data']\n"
     ]
    }
   ],
   "source": [
    "import numpy as np\n",
    "\n",
    "filename = \"./resampled_data.npz\"\n",
    "npzfile = np.load(filename)\n",
    "print(npzfile.files)"
   ]
  },
  {
   "cell_type": "code",
   "execution_count": 2,
   "metadata": {},
   "outputs": [
    {
     "name": "stdout",
     "output_type": "stream",
     "text": [
      "Target data shape:  (75, 32, 32)\n",
      "Non-target data shape:  (300, 32, 32)\n"
     ]
    }
   ],
   "source": [
    "target_data = npzfile['target_data']\n",
    "non_target_data = npzfile['non_target_data']\n",
    "\n",
    "print(\"Target data shape: \", target_data.shape)\n",
    "print(\"Non-target data shape: \", non_target_data.shape)\n",
    "# (trial , chanel, time)"
   ]
  },
  {
   "cell_type": "markdown",
   "metadata": {},
   "source": [
    "# Classification"
   ]
  },
  {
   "cell_type": "markdown",
   "metadata": {},
   "source": [
    "불러온 데이터와, Target은 1, Non-target은 0으로 정답을 만들어줍니다. 이후, 잘 불러와졌는지 첫 번째 데이터를 확인합니다."
   ]
  },
  {
   "cell_type": "code",
   "execution_count": 3,
   "metadata": {},
   "outputs": [
    {
     "name": "stdout",
     "output_type": "stream",
     "text": [
      "X_train shape:  (281, 32, 32)\n",
      "Y_train shape:  (281,)\n",
      "[  1.60218924   2.45750807  -5.73704155  -0.39830936  -0.58856095\n",
      "  -1.88942423   3.62877279   3.7125499    1.65790269  -2.47709338\n",
      "  -4.84796002  -2.91333102  -2.59842915  -4.39957614   5.29074272\n",
      "   1.81107388   0.22134676  -6.20208792   6.17205169   6.56898446\n",
      "  15.86684913   9.23249772   4.2213452   -3.6880042  -10.76734107\n",
      "  -1.92747658  -5.90540743  -1.35890319 -10.51475778  -0.19431414\n",
      "  -3.24503877  -3.11785104]\n",
      "\n",
      "X_test shape:  (94, 32, 32)\n",
      "y_test shape:  (94,)\n",
      "[  3.36334193   1.11245855  -0.90455152  -3.71186998  -0.08337389\n",
      "  -2.71506041  -4.62245867  -1.89613542   2.48586613  -6.97184154\n",
      "   1.03915005   0.20767989  -0.426929     7.92042493   3.13434548\n",
      "   1.58683091  -3.83570429  -0.67309755  -0.83427499   1.99654454\n",
      "  10.9997141   -1.51422384   5.23661765  -7.2941492    1.38725739\n",
      "   2.76369284  29.27995727  52.54985141  16.47463513 -23.66084727\n",
      " -47.31426763 -43.62883043]\n"
     ]
    }
   ],
   "source": [
    "from sklearn.model_selection import train_test_split\n",
    "\n",
    "X = np.concatenate([target_data, non_target_data])\n",
    "y = np.concatenate([np.ones(target_data.shape[0]), np.zeros(non_target_data.shape[0])])\n",
    "\n",
    "X_train, X_test, y_train, y_test = train_test_split(X, y, random_state=777)\n",
    "print(\"X_train shape: \", X_train.shape)\n",
    "print(\"Y_train shape: \", y_train.shape)\n",
    "print(X_train[0, 0, :])\n",
    "print(\"\\nX_test shape: \", X_test.shape)\n",
    "print(\"y_test shape: \", y_test.shape)\n",
    "print(X_test[0, 0, :])"
   ]
  },
  {
   "cell_type": "markdown",
   "metadata": {},
   "source": [
    "\n",
    "우리는 아래와 같이 생긴 모델을 구현할 예정입니다.\n",
    "\n",
    "![CNN_structure](./Images/CNN_structure.png)"
   ]
  },
  {
   "cell_type": "markdown",
   "metadata": {},
   "source": [
    "### Decision Tree\n",
    "\n",
    "Decision Tree를 사용하여 P300을 검출합니다. GridSearchCV를 통해 최적의 hyperparameter를 찾습니다."
   ]
  },
  {
   "cell_type": "code",
   "execution_count": 5,
   "metadata": {},
   "outputs": [
    {
     "name": "stdout",
     "output_type": "stream",
     "text": [
      "gridsearch.best_params_ = {'criterion': 'entropy', 'min_samples_leaf': 50, 'random_state': 777}\n",
      "DecisionTreeClassifier(criterion='entropy', min_samples_leaf=50,\n",
      "                       random_state=777)\n"
     ]
    }
   ],
   "source": [
    "from sklearn.tree import DecisionTreeClassifier\n",
    "from sklearn.model_selection import GridSearchCV\n",
    "\n",
    "clf = DecisionTreeClassifier()\n",
    "parameters = {'criterion': ['entropy'],\n",
    "              'min_samples_leaf': [10, 20, 30, 50, 100],\n",
    "              'random_state': [777]}\n",
    "\n",
    "X_train_reshaped = X_train.reshape(X_train.shape[0], -1)\n",
    "X_test_reshaped = X_test.reshape(X_test.shape[0], -1)\n",
    "gridsearch = GridSearchCV(clf, parameters, scoring='accuracy', cv=3)\n",
    "gridsearch.fit(X_train_reshaped, y_train)\n",
    "\n",
    "print(f'gridsearch.best_params_ = {gridsearch.best_params_}')\n",
    "best_clf = gridsearch.best_estimator_\n",
    "print(best_clf)"
   ]
  },
  {
   "cell_type": "code",
   "execution_count": 6,
   "metadata": {},
   "outputs": [
    {
     "name": "stdout",
     "output_type": "stream",
     "text": [
      "Accuracy:  0.8297872340425532\n"
     ]
    }
   ],
   "source": [
    "from sklearn.metrics import accuracy_score\n",
    "\n",
    "y_pred = best_clf.predict(X_test_reshaped)\n",
    "accuracy = accuracy_score(y_test, y_pred)\n",
    "print('Accuracy: ', accuracy)"
   ]
  },
  {
   "cell_type": "code",
   "execution_count": 7,
   "metadata": {},
   "outputs": [
    {
     "data": {
      "text/plain": [
       "[Text(488.25, 237.82500000000002, 'X[814] <= 2.014\\nentropy = 0.741\\nsamples = 281\\nvalue = [222, 59]'),\n",
       " Text(390.6, 169.875, 'X[243] <= -1.111\\nentropy = 0.57\\nsamples = 223\\nvalue = [193, 30]'),\n",
       " Text(195.3, 101.92500000000001, 'X[608] <= -0.911\\nentropy = 0.191\\nsamples = 102\\nvalue = [99, 3]'),\n",
       " Text(97.65, 33.974999999999994, 'entropy = 0.0\\nsamples = 52\\nvalue = [52, 0]'),\n",
       " Text(292.95000000000005, 33.974999999999994, 'entropy = 0.327\\nsamples = 50\\nvalue = [47, 3]'),\n",
       " Text(585.9000000000001, 101.92500000000001, 'X[356] <= 0.608\\nentropy = 0.766\\nsamples = 121\\nvalue = [94, 27]'),\n",
       " Text(488.25, 33.974999999999994, 'entropy = 0.376\\nsamples = 55\\nvalue = [51, 4]'),\n",
       " Text(683.5500000000001, 33.974999999999994, 'entropy = 0.933\\nsamples = 66\\nvalue = [43, 23]'),\n",
       " Text(585.9000000000001, 169.875, 'entropy = 1.0\\nsamples = 58\\nvalue = [29, 29]')]"
      ]
     },
     "execution_count": 7,
     "metadata": {},
     "output_type": "execute_result"
    },
    {
     "data": {
      "image/png": "[encoded data removed]",
      "text/plain": [
       "<Figure size 1008x360 with 1 Axes>"
      ]
     },
     "metadata": {
      "needs_background": "light"
     },
     "output_type": "display_data"
    }
   ],
   "source": [
    "import sklearn\n",
    "import matplotlib.pyplot as plt\n",
    "\n",
    "plt.figure(figsize=(14, 5))\n",
    "sklearn.tree.plot_tree(best_clf)"
   ]
  },
  {
   "cell_type": "markdown",
   "metadata": {},
   "source": [
    "814번째 값이 2.014보다 작은지를 가장 큰 차이로 두고 있으니, 어떤 값인지 찾아봅시다.\n",
    "\n",
    "한 데이터가 32 Channel x 32 Time 으로 이루어져 있으니, 814번째가 어디인지 간단한 수식을 통해 찾아볼 수 있습니다.\n",
    "\n",
    "**(814 // 32) + 1 Channel, (814 % 32) Time** = 26번째 Channel, 14번째 Time\n",
    "\n",
    "1300ms를 32개로 나눴으니, 14번째 Time은 대략 570ms 정도 되므로, -0.3s ~ 1s의 데이터에서 FC2 Channel의 270ms ~ 310ms정도를 중요하게 보고 있다고 볼 수 있습니다. 이는 우리가 생각한 P300, 즉 자극 발생 이후 300ms즈음에 나타나는 신호가 2.014보다 큰지 작은지를 중요하게 판단하고 있다고 볼 수 있습니다.\n",
    "\n",
    "\n",
    "243번째 데이터는 C3 Channel의 460ms, 608번째 데이터는 P8 Channel의 -300ms, 356번째 데이터는 P3 Channel의 -140ms입니다."
   ]
  },
  {
   "cell_type": "markdown",
   "metadata": {},
   "source": [
    "### Random Forest\n",
    "\n",
    "Random Forest를 이용하여 P300을 검출합니다. GridSearchCV를 통해 최적의 hyperparameter를 찾습니다."
   ]
  },
  {
   "cell_type": "code",
   "execution_count": 8,
   "metadata": {},
   "outputs": [
    {
     "name": "stdout",
     "output_type": "stream",
     "text": [
      "gridsearch.best_params_ = {'criterion': 'entropy', 'n_estimators': 10, 'random_state': 777}\n",
      "RandomForestClassifier(criterion='entropy', n_estimators=10, random_state=777)\n"
     ]
    }
   ],
   "source": [
    "from sklearn.ensemble import RandomForestClassifier\n",
    "from sklearn.model_selection import GridSearchCV\n",
    "\n",
    "clf = RandomForestClassifier()\n",
    "parameters = {'criterion': ['entropy'],\n",
    "              'n_estimators': [1, 5, 10, 30, 50, 100],\n",
    "              'random_state': [777]}\n",
    "gridsearch = GridSearchCV(clf, parameters, scoring='accuracy', cv=3)\n",
    "gridsearch.fit(X_train_reshaped, y_train)\n",
    "\n",
    "print(f'gridsearch.best_params_ = {gridsearch.best_params_}')\n",
    "best_clf = gridsearch.best_estimator_\n",
    "print(best_clf)"
   ]
  },
  {
   "cell_type": "code",
   "execution_count": 9,
   "metadata": {},
   "outputs": [
    {
     "name": "stdout",
     "output_type": "stream",
     "text": [
      "Accuracy:  0.8191489361702128\n"
     ]
    }
   ],
   "source": [
    "from sklearn.metrics import accuracy_score\n",
    "\n",
    "y_pred = best_clf.predict(X_test_reshaped)\n",
    "accuracy = accuracy_score(y_test, y_pred)\n",
    "print('Accuracy: ', accuracy)"
   ]
  },
  {
   "cell_type": "markdown",
   "metadata": {},
   "source": [
    "## Convolutional Neural Network\n",
    "\n",
    "딥러닝 기법 중 하나인 CNN을 이용하여 P300을 검출합니다."
   ]
  },
  {
   "cell_type": "code",
   "execution_count": 4,
   "metadata": {},
   "outputs": [],
   "source": [
    "import warnings\n",
    "import torch\n",
    "import random\n",
    "warnings.filterwarnings(\"ignore\")\n",
    "\n",
    "def set_seed(seed):\n",
    "    torch.manual_seed(seed)\n",
    "    torch.cuda.manual_seed_all(seed)\n",
    "    np.random.seed(seed)\n",
    "    random.seed(seed)\n",
    "    torch.backends.cudnn.deterministic = True\n",
    "    torch.backends.cudnn.benchmark = False\n",
    "set_seed(777)"
   ]
  },
  {
   "cell_type": "markdown",
   "metadata": {},
   "source": [
    "우리는 아래와 같이 생긴 모델을 구현할 예정입니다.\n",
    "\n",
    "![CNN_structure](./Images/CNN_structure.png)"
   ]
  },
  {
   "cell_type": "code",
   "execution_count": 5,
   "metadata": {},
   "outputs": [],
   "source": [
    "import torch\n",
    "import torch.nn as nn\n",
    "\n",
    "class CNN(nn.Module):\n",
    "    def __init__(self):\n",
    "        super(CNN, self).__init__()\n",
    "        conv1 = nn.Conv2d(1, 6, 3, 1, padding=True)\n",
    "        conv2 = nn.Conv2d(6, 16, 3, 1, padding=True)\n",
    "        max_pool = nn.MaxPool2d(2)\n",
    "        \n",
    "        fc1 = nn.Linear(16 * 8 * 8, 32)\n",
    "        out = nn.Linear(32, 2)\n",
    "        \n",
    "        # Batch x Channel x Height x Width\n",
    "        self.conv = nn.Sequential(\n",
    "            conv1,  # N x 1 x 32 x 32 -> N x 6 x 32 x 32\n",
    "            nn.ReLU(),\n",
    "            max_pool,  # N x 6 x 32 x 32 -> N x 6 x 16 x 16\n",
    "            conv2,  # N x 6 x 16 x 16 -> N x 16 x 16 x 16\n",
    "            nn.ReLU(),\n",
    "            max_pool,  # N x 16 x 16 x 16 -> N x 16 x 8 x 8\n",
    "        )\n",
    "        \n",
    "        self.fc = nn.Sequential(\n",
    "            fc1,  # N x 1024 -> N x 32\n",
    "            nn.ReLU(),\n",
    "            out,  # N x 32 -> N x 2\n",
    "            nn.Softmax()\n",
    "        )\n",
    "\n",
    "    def forward(self, x):\n",
    "        x = self.conv(x)\n",
    "        \n",
    "        dim = 1\n",
    "        for d in x.size()[1:]: # N x 16 x 8 x 8\n",
    "            dim = dim * d\n",
    "            \n",
    "        x = x.view(-1, dim)\n",
    "        x = self.fc(x)\n",
    "        return x"
   ]
  },
  {
   "cell_type": "markdown",
   "metadata": {},
   "source": [
    "딥러닝에 사용되는 데이터는 tensor의 형태이기 때문에, 적절한 변환이 필요합니다. 미리 준비된 EEGDataset Class를 활용하여 데이터를 가져옵니다."
   ]
  },
  {
   "cell_type": "code",
   "execution_count": 6,
   "metadata": {},
   "outputs": [],
   "source": [
    "from EEGDataset import EEGDataset\n",
    "from torch.utils.data import DataLoader\n",
    "import torch\n",
    "\n",
    "batch_size = 4\n",
    "\n",
    "train_loader = DataLoader(\n",
    "                EEGDataset(X_train, y_train), \n",
    "                batch_size=batch_size, \n",
    "                shuffle=True)\n",
    "\n",
    "test_loader = DataLoader(\n",
    "                EEGDataset(X_test, y_test),\n",
    "                batch_size=batch_size,\n",
    "                shuffle=False)"
   ]
  },
  {
   "cell_type": "markdown",
   "metadata": {},
   "source": [
    "이후, Hyperparameter를 설정하고, 학습을 시킵니다"
   ]
  },
  {
   "cell_type": "code",
   "execution_count": 7,
   "metadata": {},
   "outputs": [],
   "source": [
    "import torch\n",
    "import torch.nn as nn\n",
    "from torch import optim\n",
    "\n",
    "DEVICE = 'cuda' if torch.cuda.is_available() else 'cpu'\n",
    "\n",
    "model = CNN().to(DEVICE)\n",
    "\n",
    "criterion = nn.BCELoss()\n",
    "lr = 1e-3\n",
    "optimizer = optim.Adam(model.parameters(), lr=lr)\n",
    "epochs = 10"
   ]
  },
  {
   "cell_type": "code",
   "execution_count": 8,
   "metadata": {},
   "outputs": [
    {
     "name": "stdout",
     "output_type": "stream",
     "text": [
      "epoch: 1/10 | step: 10/71 | train_loss: 0.7823 | test_loss: 0.5154 | acc: 0.8333\n",
      "epoch: 1/10 | step: 20/71 | train_loss: 0.6757 | test_loss: 0.4867 | acc: 0.8229\n",
      "epoch: 1/10 | step: 30/71 | train_loss: 0.5496 | test_loss: 0.4930 | acc: 0.8333\n",
      "epoch: 1/10 | step: 40/71 | train_loss: 0.5729 | test_loss: 0.4486 | acc: 0.8333\n",
      "epoch: 1/10 | step: 50/71 | train_loss: 0.5773 | test_loss: 0.4703 | acc: 0.8333\n",
      "epoch: 1/10 | step: 60/71 | train_loss: 0.3600 | test_loss: 0.4632 | acc: 0.8333\n",
      "epoch: 1/10 | step: 70/71 | train_loss: 0.6118 | test_loss: 0.4444 | acc: 0.8333\n",
      "epoch: 2/10 | step: 10/71 | train_loss: 0.4259 | test_loss: 0.4429 | acc: 0.8333\n",
      "epoch: 2/10 | step: 20/71 | train_loss: 0.4196 | test_loss: 0.4478 | acc: 0.8333\n",
      "epoch: 2/10 | step: 30/71 | train_loss: 0.4207 | test_loss: 0.4723 | acc: 0.8333\n",
      "epoch: 2/10 | step: 40/71 | train_loss: 0.4312 | test_loss: 0.4711 | acc: 0.8542\n",
      "epoch: 2/10 | step: 50/71 | train_loss: 0.5361 | test_loss: 0.4802 | acc: 0.8125\n",
      "epoch: 2/10 | step: 60/71 | train_loss: 0.4736 | test_loss: 0.4563 | acc: 0.8438\n",
      "epoch: 2/10 | step: 70/71 | train_loss: 0.5307 | test_loss: 0.4367 | acc: 0.8542\n",
      "epoch: 3/10 | step: 10/71 | train_loss: 0.4980 | test_loss: 0.4474 | acc: 0.8438\n",
      "epoch: 3/10 | step: 20/71 | train_loss: 0.3349 | test_loss: 0.4250 | acc: 0.8333\n",
      "epoch: 3/10 | step: 30/71 | train_loss: 0.4733 | test_loss: 0.4105 | acc: 0.8333\n",
      "epoch: 3/10 | step: 40/71 | train_loss: 0.3981 | test_loss: 0.4086 | acc: 0.8646\n",
      "epoch: 3/10 | step: 50/71 | train_loss: 0.4520 | test_loss: 0.4137 | acc: 0.8438\n",
      "epoch: 3/10 | step: 60/71 | train_loss: 0.4649 | test_loss: 0.4003 | acc: 0.8750\n",
      "epoch: 3/10 | step: 70/71 | train_loss: 0.3430 | test_loss: 0.4272 | acc: 0.8438\n",
      "epoch: 4/10 | step: 10/71 | train_loss: 0.3271 | test_loss: 0.4576 | acc: 0.8646\n",
      "epoch: 4/10 | step: 20/71 | train_loss: 0.3774 | test_loss: 0.4196 | acc: 0.8542\n",
      "epoch: 4/10 | step: 30/71 | train_loss: 0.4222 | test_loss: 0.3955 | acc: 0.8542\n",
      "epoch: 4/10 | step: 40/71 | train_loss: 0.4047 | test_loss: 0.3980 | acc: 0.8750\n",
      "epoch: 4/10 | step: 50/71 | train_loss: 0.4009 | test_loss: 0.4198 | acc: 0.8646\n",
      "epoch: 4/10 | step: 60/71 | train_loss: 0.3792 | test_loss: 0.4406 | acc: 0.8438\n",
      "epoch: 4/10 | step: 70/71 | train_loss: 0.3612 | test_loss: 0.4319 | acc: 0.8542\n",
      "epoch: 5/10 | step: 10/71 | train_loss: 0.2994 | test_loss: 0.4496 | acc: 0.8646\n",
      "epoch: 5/10 | step: 20/71 | train_loss: 0.3714 | test_loss: 0.4481 | acc: 0.8333\n",
      "epoch: 5/10 | step: 30/71 | train_loss: 0.3363 | test_loss: 0.4242 | acc: 0.8958\n",
      "epoch: 5/10 | step: 40/71 | train_loss: 0.2195 | test_loss: 0.4279 | acc: 0.8750\n",
      "epoch: 5/10 | step: 50/71 | train_loss: 0.4625 | test_loss: 0.4050 | acc: 0.9167\n",
      "epoch: 5/10 | step: 60/71 | train_loss: 0.2901 | test_loss: 0.4216 | acc: 0.8958\n",
      "epoch: 5/10 | step: 70/71 | train_loss: 0.2470 | test_loss: 0.5724 | acc: 0.8333\n",
      "epoch: 6/10 | step: 10/71 | train_loss: 0.3160 | test_loss: 0.4535 | acc: 0.8854\n",
      "epoch: 6/10 | step: 20/71 | train_loss: 0.2594 | test_loss: 0.4604 | acc: 0.8646\n",
      "epoch: 6/10 | step: 30/71 | train_loss: 0.2356 | test_loss: 0.4716 | acc: 0.8646\n",
      "epoch: 6/10 | step: 40/71 | train_loss: 0.2178 | test_loss: 0.4600 | acc: 0.9062\n",
      "epoch: 6/10 | step: 50/71 | train_loss: 0.2794 | test_loss: 0.5737 | acc: 0.7188\n",
      "epoch: 6/10 | step: 60/71 | train_loss: 0.2879 | test_loss: 0.4983 | acc: 0.8854\n",
      "epoch: 6/10 | step: 70/71 | train_loss: 0.2532 | test_loss: 0.4393 | acc: 0.8333\n",
      "epoch: 7/10 | step: 10/71 | train_loss: 0.1958 | test_loss: 0.4711 | acc: 0.8958\n",
      "epoch: 7/10 | step: 20/71 | train_loss: 0.2685 | test_loss: 0.4539 | acc: 0.8021\n",
      "epoch: 7/10 | step: 30/71 | train_loss: 0.2547 | test_loss: 0.4454 | acc: 0.8750\n",
      "epoch: 7/10 | step: 40/71 | train_loss: 0.2298 | test_loss: 0.4436 | acc: 0.8750\n",
      "epoch: 7/10 | step: 50/71 | train_loss: 0.1808 | test_loss: 0.4310 | acc: 0.8750\n",
      "epoch: 7/10 | step: 60/71 | train_loss: 0.1951 | test_loss: 0.4504 | acc: 0.8333\n",
      "epoch: 7/10 | step: 70/71 | train_loss: 0.3284 | test_loss: 0.4971 | acc: 0.8646\n",
      "epoch: 8/10 | step: 10/71 | train_loss: 0.2348 | test_loss: 0.5045 | acc: 0.8542\n",
      "epoch: 8/10 | step: 20/71 | train_loss: 0.1825 | test_loss: 0.4483 | acc: 0.8229\n",
      "epoch: 8/10 | step: 30/71 | train_loss: 0.1706 | test_loss: 0.4331 | acc: 0.8542\n",
      "epoch: 8/10 | step: 40/71 | train_loss: 0.1546 | test_loss: 0.4171 | acc: 0.8750\n",
      "epoch: 8/10 | step: 50/71 | train_loss: 0.1705 | test_loss: 0.4089 | acc: 0.8750\n",
      "epoch: 8/10 | step: 60/71 | train_loss: 0.1101 | test_loss: 0.4107 | acc: 0.8854\n",
      "epoch: 8/10 | step: 70/71 | train_loss: 0.1438 | test_loss: 0.4395 | acc: 0.8646\n",
      "epoch: 9/10 | step: 10/71 | train_loss: 0.0790 | test_loss: 0.4860 | acc: 0.8750\n",
      "epoch: 9/10 | step: 20/71 | train_loss: 0.0882 | test_loss: 0.5309 | acc: 0.8854\n",
      "epoch: 9/10 | step: 30/71 | train_loss: 0.0737 | test_loss: 0.5774 | acc: 0.7812\n",
      "epoch: 9/10 | step: 40/71 | train_loss: 0.0995 | test_loss: 0.5184 | acc: 0.8438\n",
      "epoch: 9/10 | step: 50/71 | train_loss: 0.0960 | test_loss: 0.5276 | acc: 0.8021\n",
      "epoch: 9/10 | step: 60/71 | train_loss: 0.1185 | test_loss: 0.5088 | acc: 0.8333\n",
      "epoch: 9/10 | step: 70/71 | train_loss: 0.1261 | test_loss: 0.5094 | acc: 0.8750\n",
      "epoch: 10/10 | step: 10/71 | train_loss: 0.0572 | test_loss: 0.5060 | acc: 0.8646\n",
      "epoch: 10/10 | step: 20/71 | train_loss: 0.0547 | test_loss: 0.4996 | acc: 0.8646\n",
      "epoch: 10/10 | step: 30/71 | train_loss: 0.0253 | test_loss: 0.5063 | acc: 0.8750\n",
      "epoch: 10/10 | step: 40/71 | train_loss: 0.0283 | test_loss: 0.5129 | acc: 0.8542\n",
      "epoch: 10/10 | step: 50/71 | train_loss: 0.0470 | test_loss: 0.5348 | acc: 0.8646\n",
      "epoch: 10/10 | step: 60/71 | train_loss: 0.0533 | test_loss: 0.5596 | acc: 0.8438\n",
      "epoch: 10/10 | step: 70/71 | train_loss: 0.0713 | test_loss: 0.5517 | acc: 0.8542\n"
     ]
    }
   ],
   "source": [
    "from sklearn.metrics import accuracy_score\n",
    "\n",
    "train_loss_list = []\n",
    "test_loss_list = []\n",
    "train_acc_list = []\n",
    "test_acc_list = []\n",
    "\n",
    "num_batches = len(train_loader)\n",
    "for epoch in range(epochs):\n",
    "    train_loss = 0\n",
    "    train_acc = 0\n",
    "    for i, data in enumerate(train_loader):\n",
    "        \"\"\" \n",
    "        이번 학습에 사용될 데이터를 Batch 단위로 불러옵니다.\n",
    "        우리는 이전에 batch_size를 4로 설정했으므로, 4개의 데이터가 불러와집니다.\n",
    "        \"\"\"\n",
    "\n",
    "        data, label = data['data'].float().to(DEVICE), data['labels'].float().to(DEVICE)\n",
    "        \n",
    "        \"\"\"\n",
    "        optimizer.zero_grad(): 함수를 사용하여 기존에 남아있던 gradient를 모두 제거해줍니다.\n",
    "        이는 이전 데이터가 새로 학습될 데이터에 영향을 끼치는 것을 막아줍니다.\n",
    "        \n",
    "        output = model(data): CNN 모델에 학습 데이터를 넣고 결과를 만들어냅니다.\n",
    "        \n",
    "        loss = criterion(output, label): 모델이 만들어낸 결과와, 실제 정답간의 차이를 이용해서 오차 값을 만들어 냅니다.\n",
    "        추후에 이 값을 이용하여 모델이 학습을 하게 됩니다.\n",
    "        \n",
    "        loss.backward(): 위에서 만들어낸 오차 값을 각 노드에게 전파하여 각 노드가 업데이트 해야 할 오차가 얼마인지 찾아냅니다.\n",
    "        \n",
    "        optimizer.stop(): 각 노드별로 받은 오차를 가지고 optimizer의 방법 (여기서는 Adam)을 기반으로 weight를 업데이트 합니다.\n",
    "        \"\"\"\n",
    "        optimizer.zero_grad()\n",
    "        output = model(data)\n",
    "        loss = criterion(output, label)\n",
    "        loss.backward()\n",
    "        optimizer.step()\n",
    "        \n",
    "        # Visualization을 위해 loss값과 accuracy를 저장합니다.\n",
    "        train_loss += loss.item()\n",
    "        train_acc += accuracy_score(np.argmax(label.cpu().detach().numpy(), axis=1), np.argmax(output.cpu().detach().numpy(), axis=1))\n",
    "        \n",
    "        \"\"\"\n",
    "        10번의 batch마다 test를 진행합니다.\n",
    "        모델을 test할 때는 weight를 업데이트 시키면 안되기 때문에 torch.no_grad()를 이용합니다.\n",
    "        \"\"\"\n",
    "        if (i + 1) % 10 == 0:\n",
    "            test_loss = 0\n",
    "            test_acc = 0\n",
    "            with torch.no_grad():\n",
    "                for j, test_data in enumerate(test_loader):\n",
    "                    test_data, test_label = test_data['data'].float().to(DEVICE), test_data['labels'].float().to(DEVICE)\n",
    "                    test_output = model(test_data)\n",
    "                    loss = criterion(test_output, test_label)\n",
    "                    test_loss += loss.item()\n",
    "                    test_acc += accuracy_score(np.argmax(test_label.cpu().detach().numpy(), axis=1), np.argmax(test_output.cpu().detach().numpy(), axis=1))\n",
    "            \n",
    "            print('epoch: {}/{} | step: {}/{} | train_loss: {:.4f} | test_loss: {:.4f} | acc: {:.4f}'.format(\n",
    "                epoch + 1, epochs, i + 1, num_batches, train_loss / 10, test_loss / len(test_loader), test_acc / len(test_loader)\n",
    "            ))\n",
    "            \n",
    "            train_loss_list.append(train_loss / 10)\n",
    "            train_acc_list.append(train_acc / 10)\n",
    "            test_loss_list.append(test_loss / len(test_loader))\n",
    "            test_acc_list.append(test_acc / len(test_loader))\n",
    "            train_loss = 0\n",
    "            train_acc = 0"
   ]
  },
  {
   "cell_type": "markdown",
   "metadata": {},
   "source": [
    "Loss와 Accuracy에 대한 그래프를 그려보면, 다음과 같이 나옵니다"
   ]
  },
  {
   "cell_type": "code",
   "execution_count": 15,
   "metadata": {},
   "outputs": [
    {
     "data": {
      "text/plain": [
       "<matplotlib.legend.Legend at 0x13b52ea5198>"
      ]
     },
     "execution_count": 15,
     "metadata": {},
     "output_type": "execute_result"
    },
    {
     "data": {
      "image/png": "[encoded data removed]",
      "text/plain": [
       "<Figure size 432x288 with 1 Axes>"
      ]
     },
     "metadata": {
      "needs_background": "light"
     },
     "output_type": "display_data"
    }
   ],
   "source": [
    "x_tick = np.arange(0, len(train_loss_list) * 10, 10)\n",
    "plt.title('Loss graph')\n",
    "plt.plot(x_tick, train_loss_list, label='Train')\n",
    "plt.plot(x_tick, test_loss_list, label='Test')\n",
    "plt.legend()"
   ]
  },
  {
   "cell_type": "code",
   "execution_count": 7,
   "metadata": {},
   "outputs": [
    {
     "ename": "NameError",
     "evalue": "name 'np' is not defined",
     "output_type": "error",
     "traceback": [
      "\u001b[1;31m---------------------------------------------------------------------------\u001b[0m",
      "\u001b[1;31mNameError\u001b[0m                                 Traceback (most recent call last)",
      "\u001b[1;32m<ipython-input-7-4dc031538363>\u001b[0m in \u001b[0;36m<module>\u001b[1;34m\u001b[0m\n\u001b[1;32m----> 1\u001b[1;33m \u001b[0mx_tick\u001b[0m \u001b[1;33m=\u001b[0m \u001b[0mnp\u001b[0m\u001b[1;33m.\u001b[0m\u001b[0marange\u001b[0m\u001b[1;33m(\u001b[0m\u001b[1;36m0\u001b[0m\u001b[1;33m,\u001b[0m \u001b[0mlen\u001b[0m\u001b[1;33m(\u001b[0m\u001b[0mtrain_acc_list\u001b[0m\u001b[1;33m)\u001b[0m \u001b[1;33m*\u001b[0m \u001b[1;36m10\u001b[0m\u001b[1;33m,\u001b[0m \u001b[1;36m10\u001b[0m\u001b[1;33m)\u001b[0m\u001b[1;33m\u001b[0m\u001b[1;33m\u001b[0m\u001b[0m\n\u001b[0m\u001b[0;32m      2\u001b[0m \u001b[0mplt\u001b[0m\u001b[1;33m.\u001b[0m\u001b[0mtitle\u001b[0m\u001b[1;33m(\u001b[0m\u001b[1;34m'Accuracy graph'\u001b[0m\u001b[1;33m)\u001b[0m\u001b[1;33m\u001b[0m\u001b[1;33m\u001b[0m\u001b[0m\n\u001b[0;32m      3\u001b[0m \u001b[0mplt\u001b[0m\u001b[1;33m.\u001b[0m\u001b[0mplot\u001b[0m\u001b[1;33m(\u001b[0m\u001b[0mx_tick\u001b[0m\u001b[1;33m,\u001b[0m \u001b[0mtrain_acc_list\u001b[0m\u001b[1;33m,\u001b[0m \u001b[0mlabel\u001b[0m\u001b[1;33m=\u001b[0m\u001b[1;34m'Train'\u001b[0m\u001b[1;33m)\u001b[0m\u001b[1;33m\u001b[0m\u001b[1;33m\u001b[0m\u001b[0m\n\u001b[0;32m      4\u001b[0m \u001b[0mplt\u001b[0m\u001b[1;33m.\u001b[0m\u001b[0mplot\u001b[0m\u001b[1;33m(\u001b[0m\u001b[0mx_tick\u001b[0m\u001b[1;33m,\u001b[0m \u001b[0mtest_acc_list\u001b[0m\u001b[1;33m,\u001b[0m \u001b[0mlabel\u001b[0m\u001b[1;33m=\u001b[0m\u001b[1;34m'Test'\u001b[0m\u001b[1;33m)\u001b[0m\u001b[1;33m\u001b[0m\u001b[1;33m\u001b[0m\u001b[0m\n\u001b[0;32m      5\u001b[0m \u001b[0mplt\u001b[0m\u001b[1;33m.\u001b[0m\u001b[0mlegend\u001b[0m\u001b[1;33m(\u001b[0m\u001b[1;33m)\u001b[0m\u001b[1;33m\u001b[0m\u001b[1;33m\u001b[0m\u001b[0m\n",
      "\u001b[1;31mNameError\u001b[0m: name 'np' is not defined"
     ]
    }
   ],
   "source": [
    "x_tick = np.arange(0, len(train_acc_list) * 10, 10)\n",
    "plt.title('Accuracy graph')\n",
    "plt.plot(x_tick, train_acc_list, label='Train')\n",
    "plt.plot(x_tick, test_acc_list, label='Test')\n",
    "plt.legend()"
   ]
  },
  {
   "cell_type": "code",
   "execution_count": 8,
   "metadata": {},
   "outputs": [],
   "source": [
    "import torch\n",
    "import torch.nn as nn\n",
    "\n",
    "class CNN(nn.Module):\n",
    "    def __init__(self):\n",
    "        super(CNN, self).__init__()\n",
    "        conv1 = nn.Conv2d(1, 3, 3, 1, padding=True) # 1, 6 은 임의로 한것\n",
    "        conv2 = nn.Conv2d(3, 6, 3, 1, padding=True)\n",
    "        max_pool = nn.MaxPool2d(2)\n",
    "        \n",
    "        fc1 = nn.Linear(3*1*75, 2) # fully connected layer 1번 \n",
    "        #out = nn.Linear(32, 2) #out put layer \n",
    "        \n",
    "        # Batch x Channel x Height x Width\n",
    "        self.conv = nn.Sequential(\n",
    "            conv1,  # N x 1 x 7 x 300 -> N x 3 x 7 x 300\n",
    "            nn.ReLU(),\n",
    "            max_pool,  # N x 3 x 7 x 300 -> N x 3 x 3 x 150\n",
    "            max_pool, # N x 3 x 3 x 150 -> N x 3 x 1 x 75\n",
    "            #conv2,  # N x 6 x 3 x 150 -> N x 16 x 3 x 150\n",
    "            #nn.ReLU(),\n",
    "            #max_pool,  # N x 16 x 3 x 150 -> N x 16 x 1 x 75\n",
    "        )\n",
    "        \n",
    "        self.fc = nn.Sequential(\n",
    "            fc1,  # N x 1024 -> N x 32\n",
    "            #nn.ReLU(),# activate function 이걸 뺀것\n",
    "            #out,  # N x 32 -> N x 2 이걸 뺀것 \n",
    "            nn.Softmax()  # 이건 분류 할때 사용 한거  out 이 1개일땐 다른거 쓰면 \n",
    "        )\n",
    "\n",
    "    def forward(self, x):\n",
    "        x = self.conv(x)\n",
    "        \n",
    "        dim = 1\n",
    "        for d in x.size()[1:]: #  N x 16 x 1 x 128\n",
    "            dim = dim * d\n",
    "            \n",
    "        x = x.view(-1, dim)\n",
    "        x = self.fc(x)\n",
    "        return x"
   ]
  },
  {
   "cell_type": "code",
   "execution_count": 11,
   "metadata": {},
   "outputs": [
    {
     "name": "stdout",
     "output_type": "stream",
     "text": [
      "D:\\P300_biosemi_55\\Model\\ZERO.pt\n",
      "CNN(\n",
      "  (conv): Sequential(\n",
      "    (0): Conv2d(1, 3, kernel_size=(3, 3), stride=(1, 1), padding=(True, True))\n",
      "    (1): ReLU()\n",
      "    (2): MaxPool2d(kernel_size=2, stride=2, padding=0, dilation=1, ceil_mode=False)\n",
      "    (3): MaxPool2d(kernel_size=2, stride=2, padding=0, dilation=1, ceil_mode=False)\n",
      "  )\n",
      "  (fc): Sequential(\n",
      "    (0): Linear(in_features=225, out_features=2, bias=True)\n",
      "    (1): Softmax(dim=None)\n",
      "  )\n",
      ")\n"
     ]
    }
   ],
   "source": [
    "import os, glob\n",
    "from keras.models import load_model\n",
    "import torch\n",
    "DEVICE = 'cuda' if torch.cuda.is_available() else 'cpu'\n",
    "\n",
    "model = CNN().to(DEVICE)\n",
    "Classifier_path = 'D:\\\\P300_biosemi_55\\\\Model\\\\'\n",
    "classifier_list = sorted(glob.glob(Classifier_path + '*.pt'), key=os.path.getmtime, reverse=True)\n",
    "weight_list = sorted(glob.glob(Classifier_path + 'weight\\\\*.pt'), key=os.path.getmtime, reverse=True)\n",
    "model = torch.load(classifier_list[0])\n",
    "model.load_state_dict(torch.load(weight_list[0]))\n",
    "print(classifier_list[0])\n",
    "print(model)"
   ]
  },
  {
   "cell_type": "markdown",
   "metadata": {},
   "source": [
    "대략 2~300번째 small-batch부터 over-fitting이 발생하는 것을 볼 수 있습니다."
   ]
  },
  {
   "cell_type": "markdown",
   "metadata": {},
   "source": [
    "**Decision Tree**는 82.98%의 정확도를 냈고, **Random Forest**는 81.91%의 정확도를, **CNN**은 평균적으로 85%정도의 정확도를 낸 것을 볼 수 있었습니다."
   ]
  }
 ],
 "metadata": {
  "kernelspec": {
   "display_name": "Python 3",
   "language": "python",
   "name": "python3"
  },
  "language_info": {
   "codemirror_mode": {
    "name": "ipython",
    "version": 3
   },
   "file_extension": ".py",
   "mimetype": "text/x-python",
   "name": "python",
   "nbconvert_exporter": "python",
   "pygments_lexer": "ipython3",
   "version": "3.6.13"
  }
 },
 "nbformat": 4,
 "nbformat_minor": 4
}
